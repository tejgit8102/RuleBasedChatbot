{
  "nbformat": 4,
  "nbformat_minor": 0,
  "metadata": {
    "colab": {
      "provenance": [],
      "authorship_tag": "ABX9TyMnZY1YeoeVmU770/vvVyel",
      "include_colab_link": true
    },
    "kernelspec": {
      "name": "python3",
      "display_name": "Python 3"
    },
    "language_info": {
      "name": "python"
    }
  },
  "cells": [
    {
      "cell_type": "markdown",
      "metadata": {
        "id": "view-in-github",
        "colab_type": "text"
      },
      "source": [
        "<a href=\"https://colab.research.google.com/github/tejgit8102/RuleBasedChatbot/blob/main/Rule_Based_Chatbot.ipynb\" target=\"_parent\"><img src=\"https://colab.research.google.com/assets/colab-badge.svg\" alt=\"Open In Colab\"/></a>"
      ]
    },
    {
      "cell_type": "markdown",
      "source": [],
      "metadata": {
        "id": "sf122ZuLpJTl"
      }
    },
    {
      "cell_type": "code",
      "source": [
        "import random\n",
        "import re\n",
        "\n",
        "class RuleBot:\n",
        "    # Potential Negative Responses\n",
        "    negative_responses = (\"no\", \"nope\", \"nah\", \"naw\", \"not a chance\", \"sorry\", \"pardon me\", \"not at all\")\n",
        "    # Exit conversation Keywords\n",
        "    exit_commands = (\"quit\", \"pause\", \"exit\", \"goodbye\", \"bye\", \"later\", \"end\", \"terminate\", \"finish\")\n",
        "    # Random starter questions\n",
        "    random_questions = (\n",
        "        \"Why are you here?\",\n",
        "        \"Are there many humans like you?\",\n",
        "        \"What do you consume for sustenance?\",\n",
        "        \"Is there intelligent life on this planet?\",\n",
        "        \"Does Earth have a leader?\",\n",
        "        \"What planets have a leader?\",\n",
        "        \"What planets have you visited?\",\n",
        "        \"What technology do you have on this planet?\"\n",
        "    )\n",
        "\n",
        "    def __init__(self):\n",
        "        self.alienbabble = {\n",
        "            'describe_planet_intent': r'.*\\s*your planet.*',\n",
        "            'answer_why_intent': r'why\\s*are.*',\n",
        "            'about_intellipaat': r'.*\\s*intellipaat.*'\n",
        "        }\n",
        "\n",
        "    # Greeting scenario\n",
        "    def greet(self):\n",
        "        self.name = input(\"What is your name?\\n\")\n",
        "        will_help = input(f\"Hi {self.name}, I am Rule-Bot. Will you help me learn about your planet?\\n\")\n",
        "        if will_help.lower() in self.negative_responses:\n",
        "            print(\"Ok, have a nice Earth day!\")\n",
        "            return\n",
        "        self.chat()\n",
        "\n",
        "    # Exiting Scenario\n",
        "    def make_exit(self, reply):\n",
        "        for command in self.exit_commands:\n",
        "            if reply == command:\n",
        "                print(\"Okay, have a nice Earth day!\")\n",
        "                return True\n",
        "\n",
        "    # Chat scenario\n",
        "    def chat(self):\n",
        "        reply = input(random.choice(self.random_questions)).lower()\n",
        "        while not self.make_exit(reply):\n",
        "            reply = input(self.match_reply(reply))\n",
        "\n",
        "    # Match Reply function\n",
        "    def match_reply(self, reply):\n",
        "        for key, value in self.alienbabble.items():\n",
        "            found_match = re.match(value, reply)\n",
        "            if found_match:\n",
        "                if key == 'describe_planet_intent':\n",
        "                    return self.describe_planet_intent()\n",
        "                elif key == 'answer_why_intent':\n",
        "                    return self.answer_why_intent()\n",
        "                elif key == 'about_intellipaat':\n",
        "                    return self.about_intellipaat()\n",
        "        return self.no_match_intent()\n",
        "\n",
        "    def describe_planet_intent(self):\n",
        "        responses = [\"My planet is a utopia of diverse organisms and species.\",\n",
        "                     \"I am from Opidipus, the capital of the Wayward Galaxies.\"]\n",
        "        return random.choice(responses)\n",
        "\n",
        "    def answer_why_intent(self):\n",
        "        responses = [\"I come in peace.\", \"I am here to collect data on your planet and its inhabitants.\",\n",
        "                     \"I heard the coffee is good.\"]\n",
        "        return random.choice(responses)\n",
        "\n",
        "    def about_intellipaat(self):\n",
        "        return (\"Intellipaat is world's largest professional educational company\\n\",\n",
        "                \"Intellipaat is where your career and skill grows\\n\")\n",
        "\n",
        "    def no_match_intent(self):\n",
        "        responses = [\n",
        "            \"Please tell me more.\",\n",
        "            \"Tell me more!\",\n",
        "            \"Why do you say that?\",\n",
        "            \"I see. Can you elaborate?\",\n",
        "            \"Interesting. Can you tell me more?\",\n",
        "            \"I see. How do you think?\",\n",
        "            \"Why?\",\n",
        "            \"How do you think I feel when you say that?\"\n",
        "        ]\n",
        "        return random.choice(responses)\n",
        "\n",
        "AlienBot = RuleBot()\n",
        "AlienBot.greet()\n"
      ],
      "metadata": {
        "id": "6SNt_-KQguuL",
        "colab": {
          "base_uri": "https://localhost:8080/"
        },
        "outputId": "d8d29211-500d-45e8-ec25-ad00712f7ec1"
      },
      "execution_count": 1,
      "outputs": [
        {
          "output_type": "stream",
          "name": "stdout",
          "text": [
            "What is your name?\n",
            "Tej\n",
            "Hi Tej, I am Rule-Bot. Will you help me learn about your planet?\n",
            "Yes\n",
            "Why are you here?To talk to you\n",
            "I see. How do you think?Cool\n",
            "Why?lol ! I dont know\n",
            "Why?Ok i like it\n",
            "Please tell me more.sure\n",
            "Tell me more!okay I like talking to u\n",
            "How do you think I feel when you say that?I think you dont feel\n",
            "How do you think I feel when you say that?Bye\n",
            "Please tell me more.Bye\n",
            "Please tell me more.Nah\n",
            "How do you think I feel when you say that?exxit\n",
            "Please tell me more.exit\n",
            "Okay, have a nice Earth day!\n"
          ]
        }
      ]
    },
    {
      "cell_type": "code",
      "source": [],
      "metadata": {
        "id": "5sDjiIWdIhwn"
      },
      "execution_count": null,
      "outputs": []
    }
  ]
}